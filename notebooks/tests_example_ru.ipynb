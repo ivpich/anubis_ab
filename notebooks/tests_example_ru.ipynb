{
 "cells": [
  {"cell_type": "markdown", "metadata": {}, "source": ["# A/B test example"]},
  {"cell_type": "code", "execution_count": null, "metadata": {}, "outputs": [], "source": [
    "import pandas as pd\n",
    "import numpy as np\n",
    "from anubis.tests import ab_test_parametric_continuous\n",
    "\n",
    "a = pd.Series(np.random.normal(0,1,100))\n",
    "b = pd.Series(np.random.normal(0.1,1,100))\n",
    "print(ab_test_parametric_continuous(a,b))"
  ]}
 ],
 "metadata": {
  "kernelspec": {"display_name": "Python 3", "language": "python", "name": "python3"},
  "language_info": {"name": "python", "version": "3.x"}
 },
 "nbformat": 4,
 "nbformat_minor": 5
}
