{
 "cells": [
  {
   "cell_type": "markdown",
   "metadata": {},
   "source": [
    "# Power analysis example\n",
    "Demonstrates minimum sample size calculation."
   ]
  },
  {
   "cell_type": "code",
   "execution_count": null,
   "metadata": {},
   "outputs": [],
   "source": [
    "import pandas as pd\n",
    "from anubis.power import min_sample_size_nominal\n",
    "\n",
    "baseline = 0.1\n",
    "mde = 0.02\n",
    "min_n = min_sample_size_nominal(baseline, mde)\n",
    "print('required size:', min_n)"
   ]
  }
 ],
 "metadata": {
  "kernelspec": {
   "display_name": "Python 3",
   "language": "python",
   "name": "python3"
  },
  "language_info": {
   "name": "python",
   "version": "3.x"
  }
 },
 "nbformat": 4,
 "nbformat_minor": 5
}
